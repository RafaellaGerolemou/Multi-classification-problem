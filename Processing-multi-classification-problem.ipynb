{
 "cells": [
  {
   "cell_type": "markdown",
   "metadata": {
    "id": "rNtHD0patfBa"
   },
   "source": [
    "## Data Preprocessing for Multi Classification Problem"
   ]
  },
  {
   "cell_type": "code",
   "execution_count": null,
   "metadata": {
    "id": "-XmE4fFMtcki"
   },
   "outputs": [],
   "source": [
    "# Packages/imports here\n",
    "import pandas as pd\n",
    "import numpy as np\n",
    "import seaborn as sns\n",
    "import matplotlib.pyplot as plt\n",
    "import re\n",
    "import nltk\n",
    "import spacy\n",
    "import string\n",
    "from google.colab import files\n",
    "\n",
    "%matplotlib inline\n",
    "from sklearn.preprocessing import LabelEncoder\n",
    "from collections import Counter\n",
    "from nltk.corpus import stopwords\n",
    "from nltk.stem.porter import PorterStemmer\n",
    "from nltk.corpus import wordnet\n",
    "from nltk.stem import WordNetLemmatizer\n",
    "from nltk.stem.snowball import SnowballStemmer\n",
    "from nltk.tokenize import word_tokenize\n",
    "\n",
    "pd.options.mode.chained_assignment = None"
   ]
  },
  {
   "cell_type": "code",
   "execution_count": null,
   "metadata": {
    "id": "1xXFWgCmtxYA"
   },
   "outputs": [],
   "source": [
    "#uploaded = files.upload()"
   ]
  },
  {
   "cell_type": "code",
   "execution_count": null,
   "metadata": {
    "id": "MtfMx6RMt31H"
   },
   "outputs": [],
   "source": [
    "#upload the train dataset\n",
    "df1 = pd.read_csv('german-contracts-train.csv',  dtype={\n",
    "\n",
    "        \"docid\":str,\n",
    "\n",
    "        \"publication_date\":str,\n",
    "\n",
    "        \"contract_type\":str,\n",
    "\n",
    "        \"nature_of_contract\":str,\n",
    "\n",
    "        \"country_code\":str,\n",
    "\n",
    "        \"country_name\":str,\n",
    "\n",
    "        \"sector\":str,\n",
    "\n",
    "        \"category\":str,\n",
    "\n",
    "        \"value\":float,\n",
    "\n",
    "        \"title\":str,\n",
    "\n",
    "        \"description\":str,\n",
    "\n",
    "        \"awarding_authority\":str,\n",
    "\n",
    "        \"complete_entry\":str,\n",
    "\n",
    "        \"label\":str   \n",
    "\n",
    "    })"
   ]
  },
  {
   "cell_type": "code",
   "execution_count": null,
   "metadata": {
    "id": "UwtRVE3lxMYs"
   },
   "outputs": [],
   "source": [
    "#upload the test dataset\n",
    "df2 = pd.read_csv('german-contracts-test.csv',  dtype={\n",
    "\n",
    "        \"docid\":str,\n",
    "\n",
    "        \"publication_date\":str,\n",
    "\n",
    "        \"contract_type\":str,\n",
    "\n",
    "        \"nature_of_contract\":str,\n",
    "\n",
    "        \"country_code\":str,\n",
    "\n",
    "        \"country_name\":str,\n",
    "\n",
    "        \"sector\":str,\n",
    "\n",
    "        \"value\":float,\n",
    "\n",
    "        \"title\":str,\n",
    "\n",
    "        \"description\":str,\n",
    "\n",
    "        \"awarding_authority\":str,\n",
    "\n",
    "        \"complete_entry\":str,\n",
    "  \n",
    "\n",
    "    })"
   ]
  },
  {
   "cell_type": "markdown",
   "metadata": {
    "id": "1pzmmAYtzPZb"
   },
   "source": [
    "# Data Preprocessing"
   ]
  },
  {
   "cell_type": "code",
   "execution_count": null,
   "metadata": {
    "colab": {
     "base_uri": "https://localhost:8080/"
    },
    "id": "pkMFlxRuxOWJ",
    "outputId": "fe6cf289-d533-4c79-f129-028d2d162fb6"
   },
   "outputs": [
    {
     "data": {
      "text/plain": [
       "(98320, 13)"
      ]
     },
     "execution_count": 178,
     "metadata": {
      "tags": []
     },
     "output_type": "execute_result"
    }
   ],
   "source": [
    "df1.shape"
   ]
  },
  {
   "cell_type": "code",
   "execution_count": null,
   "metadata": {
    "colab": {
     "base_uri": "https://localhost:8080/"
    },
    "id": "Cs79gqH8xU6D",
    "outputId": "7867feff-df11-45ad-eb40-3476e441af50"
   },
   "outputs": [
    {
     "data": {
      "text/plain": [
       "(24581, 11)"
      ]
     },
     "execution_count": 179,
     "metadata": {
      "tags": []
     },
     "output_type": "execute_result"
    }
   ],
   "source": [
    "df2.shape"
   ]
  },
  {
   "cell_type": "code",
   "execution_count": null,
   "metadata": {
    "colab": {
     "base_uri": "https://localhost:8080/"
    },
    "id": "-Ia1lE_hxV4b",
    "outputId": "39acdc80-334d-4472-edd0-2112f87b8ffe"
   },
   "outputs": [
    {
     "data": {
      "text/plain": [
       "docid                  0.000000\n",
       "publication_date       0.000000\n",
       "contract_type          0.000000\n",
       "nature_of_contract     0.017290\n",
       "country_code           0.000000\n",
       "country_name           0.000000\n",
       "sector                 0.000000\n",
       "category               0.000000\n",
       "value                 64.155818\n",
       "title                  0.000000\n",
       "description            0.000000\n",
       "awarding_authority     0.000000\n",
       "label                  0.000000\n",
       "dtype: float64"
      ]
     },
     "execution_count": 180,
     "metadata": {
      "tags": []
     },
     "output_type": "execute_result"
    }
   ],
   "source": [
    "#null values in train set provided\n",
    "df1.isnull().sum()*100/len(df1)"
   ]
  },
  {
   "cell_type": "code",
   "execution_count": null,
   "metadata": {
    "colab": {
     "base_uri": "https://localhost:8080/"
    },
    "id": "EM-NUc__xY9M",
    "outputId": "68f1292f-bf71-44da-f8fc-2e9567207853"
   },
   "outputs": [
    {
     "data": {
      "text/plain": [
       "docid                  0.000000\n",
       "publication_date       0.000000\n",
       "contract_type          0.000000\n",
       "nature_of_contract     0.004068\n",
       "country_code           0.000000\n",
       "country_name           0.000000\n",
       "sector                 0.000000\n",
       "value                 64.378992\n",
       "title                  0.000000\n",
       "description            0.000000\n",
       "awarding_authority     0.000000\n",
       "dtype: float64"
      ]
     },
     "execution_count": 181,
     "metadata": {
      "tags": []
     },
     "output_type": "execute_result"
    }
   ],
   "source": [
    "#null values in test set provided\n",
    "df2.isnull().sum()*100/len(df2)"
   ]
  },
  {
   "cell_type": "code",
   "execution_count": null,
   "metadata": {
    "colab": {
     "base_uri": "https://localhost:8080/"
    },
    "id": "1sk59V47hrTe",
    "outputId": "80857b7d-ff6b-4a9f-c477-480e6f40f1c2"
   },
   "outputs": [
    {
     "name": "stdout",
     "output_type": "stream",
     "text": [
      "<class 'pandas.core.frame.DataFrame'>\n",
      "RangeIndex: 98320 entries, 0 to 98319\n",
      "Data columns (total 13 columns):\n",
      " #   Column              Non-Null Count  Dtype  \n",
      "---  ------              --------------  -----  \n",
      " 0   docid               98320 non-null  object \n",
      " 1   publication_date    98320 non-null  object \n",
      " 2   contract_type       98320 non-null  object \n",
      " 3   nature_of_contract  98303 non-null  object \n",
      " 4   country_code        98320 non-null  object \n",
      " 5   country_name        98320 non-null  object \n",
      " 6   sector              98320 non-null  object \n",
      " 7   category            98320 non-null  object \n",
      " 8   value               35242 non-null  float64\n",
      " 9   title               98320 non-null  object \n",
      " 10  description         98320 non-null  object \n",
      " 11  awarding_authority  98320 non-null  object \n",
      " 12  label               98320 non-null  object \n",
      "dtypes: float64(1), object(12)\n",
      "memory usage: 9.8+ MB\n"
     ]
    }
   ],
   "source": [
    "df1.info()"
   ]
  },
  {
   "cell_type": "code",
   "execution_count": null,
   "metadata": {
    "colab": {
     "base_uri": "https://localhost:8080/"
    },
    "id": "eOBCb4XLUTEi",
    "outputId": "fd6110ec-a528-4720-be4a-bc03e732970f"
   },
   "outputs": [
    {
     "data": {
      "text/plain": [
       "1000         54520\n",
       "100000        6753\n",
       "100           6171\n",
       "1             5908\n",
       "100000000     5505\n",
       "10000         5292\n",
       "10            2614\n",
       "1000000       2582\n",
       "100001000     1459\n",
       "10000000      1039\n",
       "Name: label, dtype: int64"
      ]
     },
     "execution_count": 183,
     "metadata": {
      "tags": []
     },
     "output_type": "execute_result"
    }
   ],
   "source": [
    "n = 10\n",
    "\n",
    "l = df1['label'].value_counts()[:n]\n",
    "l"
   ]
  },
  {
   "cell_type": "code",
   "execution_count": null,
   "metadata": {
    "id": "UjWnckSxeF1F"
   },
   "outputs": [],
   "source": [
    "df1_new = df1.copy()"
   ]
  },
  {
   "cell_type": "code",
   "execution_count": null,
   "metadata": {
    "id": "aym2r7lseJpT"
   },
   "outputs": [],
   "source": [
    "#keeping the rows without a double 1\n",
    "df1_new = df1_new.loc[(df1_new['label'] == '1') |\n",
    "                      (df1_new['label'] == '10') | \n",
    "                      (df1_new['label'] == '100') |\n",
    "                      (df1_new['label'] == '1000') |\n",
    "                      (df1_new['label'] == '10000') |\n",
    "                      (df1_new['label'] == '100000') |\n",
    "                      (df1_new['label'] == '1000000') |\n",
    "                      (df1_new['label'] == '10000000') |\n",
    "                      (df1_new['label'] == '100000000')]"
   ]
  },
  {
   "cell_type": "code",
   "execution_count": null,
   "metadata": {
    "colab": {
     "base_uri": "https://localhost:8080/"
    },
    "id": "7X5QCUKqOZE8",
    "outputId": "41110a7a-6ee7-4973-e137-f8de96b9edcd"
   },
   "outputs": [
    {
     "data": {
      "text/plain": [
       "1000         54520\n",
       "100000        6753\n",
       "100           6171\n",
       "1             5908\n",
       "100000000     5505\n",
       "10000         5292\n",
       "10            2614\n",
       "1000000       2582\n",
       "10000000      1039\n",
       "Name: label, dtype: int64"
      ]
     },
     "execution_count": 186,
     "metadata": {
      "tags": []
     },
     "output_type": "execute_result"
    }
   ],
   "source": [
    "df1_new['label'].value_counts()"
   ]
  },
  {
   "cell_type": "code",
   "execution_count": null,
   "metadata": {
    "colab": {
     "base_uri": "https://localhost:8080/"
    },
    "id": "A6cyMqnkfvyz",
    "outputId": "3f4318a0-5cb9-4dcd-9ad1-0287e54b76cd"
   },
   "outputs": [
    {
     "data": {
      "text/plain": [
       "98320"
      ]
     },
     "execution_count": 187,
     "metadata": {
      "tags": []
     },
     "output_type": "execute_result"
    }
   ],
   "source": [
    "A = len(df1)\n",
    "A"
   ]
  },
  {
   "cell_type": "code",
   "execution_count": null,
   "metadata": {
    "colab": {
     "base_uri": "https://localhost:8080/"
    },
    "id": "flwV5F7YfwGG",
    "outputId": "653fc5b7-9686-41ec-e02d-236c7b883b60"
   },
   "outputs": [
    {
     "data": {
      "text/plain": [
       "90384"
      ]
     },
     "execution_count": 188,
     "metadata": {
      "tags": []
     },
     "output_type": "execute_result"
    }
   ],
   "source": [
    "B = len(df1_new)\n",
    "B"
   ]
  },
  {
   "cell_type": "code",
   "execution_count": null,
   "metadata": {
    "colab": {
     "base_uri": "https://localhost:8080/"
    },
    "id": "TcCVhicMgZz7",
    "outputId": "b62033ea-5310-4a92-c424-2d3f3692b46b"
   },
   "outputs": [
    {
     "data": {
      "text/plain": [
       "0.9192839707078926"
      ]
     },
     "execution_count": 189,
     "metadata": {
      "tags": []
     },
     "output_type": "execute_result"
    }
   ],
   "source": [
    "difference = B/A\n",
    "difference"
   ]
  },
  {
   "cell_type": "markdown",
   "metadata": {
    "id": "YtCfe8aKghLj"
   },
   "source": [
    "- we keep the 0.91% of the train dataset by removing 7938 rows"
   ]
  },
  {
   "cell_type": "code",
   "execution_count": null,
   "metadata": {
    "id": "9vGPmyAjxbtQ"
   },
   "outputs": [],
   "source": [
    "#concatinating train and test set for preprocessing\n",
    "df=pd.concat([df1_new, df2],axis=0)"
   ]
  },
  {
   "cell_type": "code",
   "execution_count": null,
   "metadata": {
    "id": "jaayV9RZxfnj"
   },
   "outputs": [],
   "source": [
    "df.reset_index(inplace = True)"
   ]
  },
  {
   "cell_type": "code",
   "execution_count": null,
   "metadata": {
    "colab": {
     "base_uri": "https://localhost:8080/"
    },
    "id": "0DJHF0PQxjL_",
    "outputId": "27d7ed2a-8061-4b26-93eb-d1aba241535b"
   },
   "outputs": [
    {
     "data": {
      "text/plain": [
       "(114965, 14)"
      ]
     },
     "execution_count": 192,
     "metadata": {
      "tags": []
     },
     "output_type": "execute_result"
    }
   ],
   "source": [
    "df.shape"
   ]
  },
  {
   "cell_type": "code",
   "execution_count": null,
   "metadata": {
    "id": "9v8ZnDP5xkY_"
   },
   "outputs": [],
   "source": [
    "#dropping attribute value, due to amount of null values present in dataset, attribute category not present in test set\n",
    "df.drop(columns=['value', 'category'], inplace = True)"
   ]
  },
  {
   "cell_type": "code",
   "execution_count": null,
   "metadata": {
    "colab": {
     "base_uri": "https://localhost:8080/"
    },
    "id": "h_EQUZalx3jz",
    "outputId": "de49873f-3dac-4136-e00e-c76cdafacd8c"
   },
   "outputs": [
    {
     "data": {
      "text/plain": [
       "works       50041\n",
       "services    41088\n",
       "supplies    23817\n",
       "combined        1\n",
       "Name: nature_of_contract, dtype: int64"
      ]
     },
     "execution_count": 194,
     "metadata": {
      "tags": []
     },
     "output_type": "execute_result"
    }
   ],
   "source": [
    "df['nature_of_contract'].value_counts()"
   ]
  },
  {
   "cell_type": "code",
   "execution_count": null,
   "metadata": {
    "id": "BT32BiM-yDGp"
   },
   "outputs": [],
   "source": [
    " #replacing null vallues with mode\n",
    "df['nature_of_contract']=df['nature_of_contract'].fillna(df['nature_of_contract'].mode()[0])"
   ]
  },
  {
   "cell_type": "code",
   "execution_count": null,
   "metadata": {
    "colab": {
     "base_uri": "https://localhost:8080/"
    },
    "id": "0Od1-5hpyG6I",
    "outputId": "ef01acd0-8523-4ca6-f67f-bfb97300083a"
   },
   "outputs": [
    {
     "data": {
      "text/plain": [
       "index                  0.00000\n",
       "docid                  0.00000\n",
       "publication_date       0.00000\n",
       "contract_type          0.00000\n",
       "nature_of_contract     0.00000\n",
       "country_code           0.00000\n",
       "country_name           0.00000\n",
       "sector                 0.00000\n",
       "title                  0.00000\n",
       "description            0.00000\n",
       "awarding_authority     0.00000\n",
       "label                 21.38129\n",
       "dtype: float64"
      ]
     },
     "execution_count": 196,
     "metadata": {
      "tags": []
     },
     "output_type": "execute_result"
    }
   ],
   "source": [
    "df.isnull().sum()*100/len(df)"
   ]
  },
  {
   "cell_type": "markdown",
   "metadata": {
    "id": "2RXl8-X-zJlV"
   },
   "source": [
    "## (A) Categorical Feature Handling"
   ]
  },
  {
   "cell_type": "code",
   "execution_count": null,
   "metadata": {
    "colab": {
     "base_uri": "https://localhost:8080/"
    },
    "id": "3vizz28gyI_G",
    "outputId": "5d9a99ac-7da4-4db3-e804-bd31d5fda1f8"
   },
   "outputs": [
    {
     "data": {
      "text/plain": [
       "['docid',\n",
       " 'publication_date',\n",
       " 'contract_type',\n",
       " 'nature_of_contract',\n",
       " 'country_code',\n",
       " 'country_name',\n",
       " 'sector',\n",
       " 'title',\n",
       " 'description',\n",
       " 'awarding_authority',\n",
       " 'label']"
      ]
     },
     "execution_count": 197,
     "metadata": {
      "tags": []
     },
     "output_type": "execute_result"
    }
   ],
   "source": [
    "categorical_features=[feature for feature in df.columns if df[feature].dtypes=='O']\n",
    "categorical_features"
   ]
  },
  {
   "cell_type": "code",
   "execution_count": null,
   "metadata": {
    "colab": {
     "base_uri": "https://localhost:8080/"
    },
    "id": "IDCbqdvKzXVo",
    "outputId": "f110fc06-fc09-4425-d53d-a0f19d5d2cd6"
   },
   "outputs": [
    {
     "name": "stdout",
     "output_type": "stream",
     "text": [
      "The feature is docid and number of categories are 114965\n",
      "The feature is publication_date and number of categories are 504\n",
      "The feature is contract_type and number of categories are 2\n",
      "The feature is nature_of_contract and number of categories are 4\n",
      "The feature is country_code and number of categories are 1\n",
      "The feature is country_name and number of categories are 1\n",
      "The feature is sector and number of categories are 1\n",
      "The feature is title and number of categories are 33671\n",
      "The feature is description and number of categories are 79137\n",
      "The feature is awarding_authority and number of categories are 13729\n",
      "The feature is label and number of categories are 10\n"
     ]
    }
   ],
   "source": [
    "for feature in categorical_features:\n",
    "    print('The feature is {} and number of categories are {}'.format(feature,len(df[feature].unique())))"
   ]
  },
  {
   "cell_type": "code",
   "execution_count": null,
   "metadata": {
    "id": "5oUvNDp2zeP4"
   },
   "outputs": [],
   "source": [
    "#we decide to drop columns as there exists no variance\n",
    "df.drop(columns=['country_code','country_name','sector' ], inplace = True)"
   ]
  },
  {
   "cell_type": "code",
   "execution_count": null,
   "metadata": {
    "id": "n-KVYrpqzpxX"
   },
   "outputs": [],
   "source": [
    "#convert strings to numericals for model building \n",
    "le = LabelEncoder()"
   ]
  },
  {
   "cell_type": "code",
   "execution_count": null,
   "metadata": {
    "id": "EuM4fu-Tzwcp"
   },
   "outputs": [],
   "source": [
    "df['publication_date'] = le.fit_transform(df['publication_date'])\n",
    "df['contract_type'] = le.fit_transform(df['contract_type'])\n",
    "df['nature_of_contract'] = le.fit_transform(df['nature_of_contract'])"
   ]
  },
  {
   "cell_type": "code",
   "execution_count": null,
   "metadata": {
    "colab": {
     "base_uri": "https://localhost:8080/",
     "height": 513
    },
    "id": "4Rsw0l6RzzBJ",
    "outputId": "a221db03-a316-4c21-da22-1f923e10b611"
   },
   "outputs": [
    {
     "data": {
      "text/html": [
       "<div>\n",
       "<style scoped>\n",
       "    .dataframe tbody tr th:only-of-type {\n",
       "        vertical-align: middle;\n",
       "    }\n",
       "\n",
       "    .dataframe tbody tr th {\n",
       "        vertical-align: top;\n",
       "    }\n",
       "\n",
       "    .dataframe thead th {\n",
       "        text-align: right;\n",
       "    }\n",
       "</style>\n",
       "<table border=\"1\" class=\"dataframe\">\n",
       "  <thead>\n",
       "    <tr style=\"text-align: right;\">\n",
       "      <th></th>\n",
       "      <th>index</th>\n",
       "      <th>docid</th>\n",
       "      <th>publication_date</th>\n",
       "      <th>contract_type</th>\n",
       "      <th>nature_of_contract</th>\n",
       "      <th>title</th>\n",
       "      <th>description</th>\n",
       "      <th>awarding_authority</th>\n",
       "      <th>label</th>\n",
       "    </tr>\n",
       "  </thead>\n",
       "  <tbody>\n",
       "    <tr>\n",
       "      <th>0</th>\n",
       "      <td>0</td>\n",
       "      <td>2493527426</td>\n",
       "      <td>114</td>\n",
       "      <td>0</td>\n",
       "      <td>1</td>\n",
       "      <td>Germany-Wilhelmshaven: Cleaning services</td>\n",
       "      <td>Unterhalts- und Glasreinigung.\\n</td>\n",
       "      <td>Staatliches Baumanagement Ems-Weser</td>\n",
       "      <td>100000</td>\n",
       "    </tr>\n",
       "    <tr>\n",
       "      <th>1</th>\n",
       "      <td>1</td>\n",
       "      <td>2538215982</td>\n",
       "      <td>131</td>\n",
       "      <td>1</td>\n",
       "      <td>1</td>\n",
       "      <td>Germany-Dresden: Engineering-design services f...</td>\n",
       "      <td>ABS Karlsruhe-Stuttgart-Nürnberg-Leipzig/Dresd...</td>\n",
       "      <td>DB Netz AG</td>\n",
       "      <td>1000</td>\n",
       "    </tr>\n",
       "    <tr>\n",
       "      <th>2</th>\n",
       "      <td>2</td>\n",
       "      <td>2204943443</td>\n",
       "      <td>100</td>\n",
       "      <td>1</td>\n",
       "      <td>3</td>\n",
       "      <td>Germany-Germering: Heating, ventilation and ai...</td>\n",
       "      <td>Nach Fertigstellung des ersten Bauabschnitts e...</td>\n",
       "      <td>Große Kreisstadt Germering</td>\n",
       "      <td>1000</td>\n",
       "    </tr>\n",
       "    <tr>\n",
       "      <th>3</th>\n",
       "      <td>3</td>\n",
       "      <td>2417769175</td>\n",
       "      <td>96</td>\n",
       "      <td>1</td>\n",
       "      <td>2</td>\n",
       "      <td>Germany-Limbach: Boards</td>\n",
       "      <td>Einrichtung Tafelsystem.\\n</td>\n",
       "      <td>Gemeinde Limbach</td>\n",
       "      <td>100000000</td>\n",
       "    </tr>\n",
       "    <tr>\n",
       "      <th>4</th>\n",
       "      <td>4</td>\n",
       "      <td>2242098706</td>\n",
       "      <td>93</td>\n",
       "      <td>0</td>\n",
       "      <td>3</td>\n",
       "      <td>Germany-Frankfurt-on-Main: Landscaping work fo...</td>\n",
       "      <td>Im Projekt Neubau Filiale in Dortmund wird das...</td>\n",
       "      <td>Deutsche Bundesbank, Beschaffungszentrum</td>\n",
       "      <td>1000</td>\n",
       "    </tr>\n",
       "  </tbody>\n",
       "</table>\n",
       "</div>"
      ],
      "text/plain": [
       "   index       docid  ...                        awarding_authority      label\n",
       "0      0  2493527426  ...       Staatliches Baumanagement Ems-Weser     100000\n",
       "1      1  2538215982  ...                                DB Netz AG       1000\n",
       "2      2  2204943443  ...                Große Kreisstadt Germering       1000\n",
       "3      3  2417769175  ...                          Gemeinde Limbach  100000000\n",
       "4      4  2242098706  ...  Deutsche Bundesbank, Beschaffungszentrum       1000\n",
       "\n",
       "[5 rows x 9 columns]"
      ]
     },
     "execution_count": 202,
     "metadata": {
      "tags": []
     },
     "output_type": "execute_result"
    }
   ],
   "source": [
    "df.head()"
   ]
  },
  {
   "cell_type": "code",
   "execution_count": null,
   "metadata": {
    "colab": {
     "base_uri": "https://localhost:8080/"
    },
    "id": "MLrijbpx0BYG",
    "outputId": "b38c94fe-e419-4ffc-d18f-0fa710ab334b"
   },
   "outputs": [
    {
     "data": {
      "text/plain": [
       "(114965, 9)"
      ]
     },
     "execution_count": 203,
     "metadata": {
      "tags": []
     },
     "output_type": "execute_result"
    }
   ],
   "source": [
    "df.shape"
   ]
  },
  {
   "cell_type": "markdown",
   "metadata": {
    "id": "zpYHqndi2mHG"
   },
   "source": [
    "## (B) Text Features Handling"
   ]
  },
  {
   "cell_type": "markdown",
   "metadata": {
    "id": "yjAy1N_i3SjS"
   },
   "source": [
    "**Processing attributes:**\n",
    "- 'title', language = English\n",
    "- 'description', language = German\n",
    "- awarding authority', language = German"
   ]
  },
  {
   "cell_type": "code",
   "execution_count": null,
   "metadata": {
    "id": "cYk94o1t2rTt"
   },
   "outputs": [],
   "source": [
    "#converting the columns from object type into string type and make the words lower casing\n",
    "def convert_string(column, table):\n",
    "  return table[column].astype(str).str.lower()\n",
    "\n",
    "\n",
    "#replacing in the df\n",
    "df['title'] = convert_string('title', df)\n",
    "df['description'] = convert_string('description', df)\n",
    "df['awarding_authority'] = convert_string('awarding_authority', df)"
   ]
  },
  {
   "cell_type": "code",
   "execution_count": null,
   "metadata": {
    "colab": {
     "base_uri": "https://localhost:8080/"
    },
    "id": "_lIu4ivn2rV5",
    "outputId": "39b67aa2-e627-4f72-b3a9-8016b76aa442"
   },
   "outputs": [
    {
     "name": "stdout",
     "output_type": "stream",
     "text": [
      "!\"#$%&'()*+,-./:;<=>?@[\\]^_`{|}~0123456789„“—\n"
     ]
    }
   ],
   "source": [
    "#remove string of punctuation and digits\n",
    "PUNCT_TO_REMOVE = string.punctuation + string.digits + '„“' + '—'\n",
    "print(PUNCT_TO_REMOVE)\n",
    "\n",
    "def remove_punctuations(text):\n",
    "    for punctuation in PUNCT_TO_REMOVE:\n",
    "        text = text.replace(punctuation, ' ')\n",
    "    return text\n",
    "\n",
    "\n",
    "#replacing in the df\n",
    "df[\"title\"] = df['title'].apply(remove_punctuations)\n",
    "df[\"description\"] = df['description'].apply(remove_punctuations)\n",
    "df[\"awarding_authority\"] = df['awarding_authority'].apply(remove_punctuations)"
   ]
  },
  {
   "cell_type": "code",
   "execution_count": null,
   "metadata": {
    "colab": {
     "base_uri": "https://localhost:8080/"
    },
    "id": "RaW2aRZW2rYB",
    "outputId": "194a4dc9-98cc-4590-d707-ac177f2b2e65"
   },
   "outputs": [
    {
     "name": "stdout",
     "output_type": "stream",
     "text": [
      "[nltk_data] Downloading package stopwords to /root/nltk_data...\n",
      "[nltk_data]   Package stopwords is already up-to-date!\n"
     ]
    },
    {
     "data": {
      "text/plain": [
       "True"
      ]
     },
     "execution_count": 206,
     "metadata": {
      "tags": []
     },
     "output_type": "execute_result"
    }
   ],
   "source": [
    "nltk.download('stopwords')"
   ]
  },
  {
   "cell_type": "code",
   "execution_count": null,
   "metadata": {
    "id": "rEDUP2BP2ra5"
   },
   "outputs": [],
   "source": [
    "#stopwords in english\n",
    "STOPWORDS_ENGLISH = set(stopwords.words('english'))\n",
    "\n",
    "def remove_stopwords_english(column, table):\n",
    "    #custom function to remove the stopwords\n",
    "    return \" \".join([word for word in str(column).split() if word not in STOPWORDS_ENGLISH])\n",
    "\n",
    "\n",
    "#stopwords in german\n",
    "STOPWORDS_GERMAN = set(stopwords.words('german'))\n",
    "\n",
    "def remove_stopwords_german(column, table):\n",
    "    #custom function to remove the stopwords\n",
    "    return \" \".join([word for word in str(column).split() if word not in STOPWORDS_GERMAN])\n",
    "\n",
    "\n",
    "#replacing in the df\n",
    "df[\"title\"] = df[\"title\"].apply(lambda title: remove_stopwords_english(title, df))\n",
    "df[\"description\"] = df[\"description\"].apply(lambda description: remove_stopwords_german(description, df))\n",
    "df[\"awarding_authority\"] = df[\"awarding_authority\"].apply(lambda awarding_authority: remove_stopwords_german(awarding_authority, df))"
   ]
  },
  {
   "cell_type": "code",
   "execution_count": null,
   "metadata": {
    "id": "1mJPzIS238mO"
   },
   "outputs": [],
   "source": [
    "stemmer_english = SnowballStemmer(language='english')\n",
    "def stem_words_english(text):\n",
    "    return \" \".join([stemmer_english.stem(word) for word in text.split()])\n",
    "\n",
    "stemmer_german = SnowballStemmer(language='english')\n",
    "def stem_words_german(text):\n",
    "    return \" \".join([stemmer_german.stem(word) for word in text.split()])\n",
    "\n",
    "#replacing in the df\n",
    "df['title'] = df['title'].apply(lambda text: stem_words_english(text))\n",
    "df['description'] = df['description'].apply(lambda text: stem_words_german(text))\n",
    "df['awarding_authority'] = df['awarding_authority'].apply(lambda text: stem_words_german(text))"
   ]
  },
  {
   "cell_type": "code",
   "execution_count": null,
   "metadata": {
    "colab": {
     "base_uri": "https://localhost:8080/"
    },
    "id": "Kjj-U3gA38pR",
    "outputId": "bd0d5718-b0ea-4ec4-e21f-df0182b9611f"
   },
   "outputs": [
    {
     "name": "stdout",
     "output_type": "stream",
     "text": [
      "[nltk_data] Downloading package punkt to /root/nltk_data...\n",
      "[nltk_data]   Package punkt is already up-to-date!\n"
     ]
    }
   ],
   "source": [
    "nltk.download('punkt')\n",
    "\n",
    "stemmer = SnowballStemmer(\"german\")\n",
    "stop_words = set(stopwords.words(\"german\"))"
   ]
  },
  {
   "cell_type": "code",
   "execution_count": null,
   "metadata": {
    "id": "MdhuX5p938rz"
   },
   "outputs": [],
   "source": [
    "def clean_text(text, for_embedding=False):\n",
    "    \"\"\"\n",
    "        - remove any html tags (< /br> often found)\n",
    "        - Keep only ASCII + European Chars and whitespace, no digits\n",
    "        - remove single letter chars\n",
    "        - convert all whitespaces (tabs etc.) to single wspace\n",
    "        if not for embedding (but e.g. tdf-idf):\n",
    "        - all lowercase\n",
    "        - remove stopwords, punctuation and stemm\n",
    "    \"\"\"\n",
    "    RE_WSPACE = re.compile(r\"\\s+\", re.IGNORECASE)\n",
    "    RE_TAGS = re.compile(r\"<[^>]+>\")\n",
    "    RE_ASCII = re.compile(r\"[^A-Za-zÀ-ž ]\", re.IGNORECASE)\n",
    "    RE_SINGLECHAR = re.compile(r\"\\b[A-Za-zÀ-ž]\\b\", re.IGNORECASE)\n",
    "    if for_embedding:\n",
    "        # Keep punctuation\n",
    "        RE_ASCII = re.compile(r\"[^A-Za-zÀ-ž,.!? ]\", re.IGNORECASE)\n",
    "        RE_SINGLECHAR = re.compile(r\"\\b[A-Za-zÀ-ž,.!?]\\b\", re.IGNORECASE)\n",
    "\n",
    "    text = re.sub(RE_TAGS, \" \", text)\n",
    "    text = re.sub(RE_ASCII, \" \", text)\n",
    "    text = re.sub(RE_SINGLECHAR, \" \", text)\n",
    "    text = re.sub(RE_WSPACE, \" \", text)\n",
    "\n",
    "    word_tokens = word_tokenize(text)\n",
    "    words_tokens_lower = [word.lower() for word in word_tokens]\n",
    "\n",
    "    if for_embedding:\n",
    "        # no stemming, lowering and punctuation / stop words removal\n",
    "        words_filtered = word_tokens\n",
    "    else:\n",
    "        words_filtered = [\n",
    "            stemmer.stem(word) for word in words_tokens_lower if word not in stop_words\n",
    "        ]\n",
    "\n",
    "    text_clean = \" \".join(words_filtered)\n",
    "    return text_clean"
   ]
  },
  {
   "cell_type": "code",
   "execution_count": null,
   "metadata": {
    "colab": {
     "base_uri": "https://localhost:8080/",
     "height": 37
    },
    "id": "M14vG8M52rcm",
    "outputId": "1cd10886-ed4b-4625-ee44-eb681e3e1cac"
   },
   "outputs": [
    {
     "data": {
      "application/vnd.google.colaboratory.intrinsic+json": {
       "type": "string"
      },
      "text/plain": [
       "'python best programmiersprach welt'"
      ]
     },
     "execution_count": 211,
     "metadata": {
      "tags": []
     },
     "output_type": "execute_result"
    }
   ],
   "source": [
    "clean_text(\"Python ist die beste Programmiersprache der Welt.\")"
   ]
  },
  {
   "cell_type": "code",
   "execution_count": null,
   "metadata": {
    "id": "B3p1uHDC4ZQ2"
   },
   "outputs": [],
   "source": [
    "#replacing in the df\n",
    "df['description'] = df['description'].apply(lambda text: clean_text(text))\n",
    "df['awarding_authority'] = df['awarding_authority'].apply(lambda text: clean_text(text))"
   ]
  },
  {
   "cell_type": "code",
   "execution_count": null,
   "metadata": {
    "colab": {
     "base_uri": "https://localhost:8080/",
     "height": 479
    },
    "id": "muBBVMq7i3Wz",
    "outputId": "f1fb81e3-61cc-420d-eb7d-5830fab704bd"
   },
   "outputs": [
    {
     "data": {
      "text/html": [
       "<div>\n",
       "<style scoped>\n",
       "    .dataframe tbody tr th:only-of-type {\n",
       "        vertical-align: middle;\n",
       "    }\n",
       "\n",
       "    .dataframe tbody tr th {\n",
       "        vertical-align: top;\n",
       "    }\n",
       "\n",
       "    .dataframe thead th {\n",
       "        text-align: right;\n",
       "    }\n",
       "</style>\n",
       "<table border=\"1\" class=\"dataframe\">\n",
       "  <thead>\n",
       "    <tr style=\"text-align: right;\">\n",
       "      <th></th>\n",
       "      <th>index</th>\n",
       "      <th>docid</th>\n",
       "      <th>publication_date</th>\n",
       "      <th>contract_type</th>\n",
       "      <th>nature_of_contract</th>\n",
       "      <th>title</th>\n",
       "      <th>description</th>\n",
       "      <th>awarding_authority</th>\n",
       "      <th>label</th>\n",
       "    </tr>\n",
       "  </thead>\n",
       "  <tbody>\n",
       "    <tr>\n",
       "      <th>0</th>\n",
       "      <td>0</td>\n",
       "      <td>2493527426</td>\n",
       "      <td>114</td>\n",
       "      <td>0</td>\n",
       "      <td>1</td>\n",
       "      <td>germani wilhelmshaven clean servic</td>\n",
       "      <td>unterhalt glasrein</td>\n",
       "      <td>staatlich baumanag em wes</td>\n",
       "      <td>100000</td>\n",
       "    </tr>\n",
       "    <tr>\n",
       "      <th>1</th>\n",
       "      <td>1</td>\n",
       "      <td>2538215982</td>\n",
       "      <td>131</td>\n",
       "      <td>1</td>\n",
       "      <td>1</td>\n",
       "      <td>germani dresden engin design servic traffic in...</td>\n",
       "      <td>ab karlsruh stuttgart nurnberg leipzig dresd b...</td>\n",
       "      <td>db netz ag</td>\n",
       "      <td>1000</td>\n",
       "    </tr>\n",
       "    <tr>\n",
       "      <th>2</th>\n",
       "      <td>2</td>\n",
       "      <td>2204943443</td>\n",
       "      <td>100</td>\n",
       "      <td>1</td>\n",
       "      <td>3</td>\n",
       "      <td>germani germer heat ventil air condit instal work</td>\n",
       "      <td>fertigstell erst bauabschnitt erfolgt zweit ba...</td>\n",
       "      <td>gross kreisstadt germ</td>\n",
       "      <td>1000</td>\n",
       "    </tr>\n",
       "    <tr>\n",
       "      <th>3</th>\n",
       "      <td>3</td>\n",
       "      <td>2417769175</td>\n",
       "      <td>96</td>\n",
       "      <td>1</td>\n",
       "      <td>2</td>\n",
       "      <td>germani limbach board</td>\n",
       "      <td>einricht tafelsyst</td>\n",
       "      <td>gemeind limbach</td>\n",
       "      <td>100000000</td>\n",
       "    </tr>\n",
       "    <tr>\n",
       "      <th>4</th>\n",
       "      <td>4</td>\n",
       "      <td>2242098706</td>\n",
       "      <td>93</td>\n",
       "      <td>0</td>\n",
       "      <td>3</td>\n",
       "      <td>germani frankfurt main landscap work green area</td>\n",
       "      <td>projekt neubau filial dortmund gewerk galabau ...</td>\n",
       "      <td>deutsch bundesbank beschaffungszentrum</td>\n",
       "      <td>1000</td>\n",
       "    </tr>\n",
       "  </tbody>\n",
       "</table>\n",
       "</div>"
      ],
      "text/plain": [
       "   index       docid  ...                      awarding_authority      label\n",
       "0      0  2493527426  ...               staatlich baumanag em wes     100000\n",
       "1      1  2538215982  ...                              db netz ag       1000\n",
       "2      2  2204943443  ...                   gross kreisstadt germ       1000\n",
       "3      3  2417769175  ...                         gemeind limbach  100000000\n",
       "4      4  2242098706  ...  deutsch bundesbank beschaffungszentrum       1000\n",
       "\n",
       "[5 rows x 9 columns]"
      ]
     },
     "execution_count": 213,
     "metadata": {
      "tags": []
     },
     "output_type": "execute_result"
    }
   ],
   "source": [
    "df.head()"
   ]
  },
  {
   "cell_type": "code",
   "execution_count": null,
   "metadata": {
    "colab": {
     "base_uri": "https://localhost:8080/"
    },
    "id": "c9fX0f_K4ZTv",
    "outputId": "a322691b-0398-4c57-8799-0399ea772393"
   },
   "outputs": [
    {
     "data": {
      "text/plain": [
       "(114965, 9)"
      ]
     },
     "execution_count": 214,
     "metadata": {
      "tags": []
     },
     "output_type": "execute_result"
    }
   ],
   "source": [
    "df.shape"
   ]
  },
  {
   "cell_type": "code",
   "execution_count": null,
   "metadata": {
    "id": "zbb12hOT0Fco"
   },
   "outputs": [],
   "source": [
    "#Extract dataset for the multi classification task without data augmentation\n",
    "df.to_csv('dataset_task2.csv')"
   ]
  },
  {
   "cell_type": "code",
   "execution_count": null,
   "metadata": {
    "id": "h4onscXc0OIL"
   },
   "outputs": [],
   "source": [
    "#from google.colab import drive\n",
    "#drive.mount('/content/drive')"
   ]
  }
 ],
 "metadata": {
  "colab": {
   "collapsed_sections": [],
   "name": "Processing_Task2_FINAL.ipynb",
   "provenance": []
  },
  "kernelspec": {
   "display_name": "Python 3",
   "language": "python",
   "name": "python3"
  },
  "language_info": {
   "codemirror_mode": {
    "name": "ipython",
    "version": 3
   },
   "file_extension": ".py",
   "mimetype": "text/x-python",
   "name": "python",
   "nbconvert_exporter": "python",
   "pygments_lexer": "ipython3",
   "version": "3.7.6"
  }
 },
 "nbformat": 4,
 "nbformat_minor": 1
}
